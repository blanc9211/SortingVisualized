{
 "cells": [
  {
   "cell_type": "code",
   "execution_count": 20,
   "metadata": {},
   "outputs": [],
   "source": [
    "import time\n",
    "import random\n",
    "import heapq\n"
   ]
  },
  {
   "cell_type": "code",
   "execution_count": 21,
   "metadata": {},
   "outputs": [],
   "source": [
    "def create_array(size=1000, max_value=10000):\n",
    "    return [random.randint(0, max_value) for _ in range(size)]"
   ]
  },
  {
   "cell_type": "code",
   "execution_count": 22,
   "metadata": {},
   "outputs": [],
   "source": [
    "# Selection Sort\n",
    "def selection_sort(arr):\n",
    "    n = len(arr)\n",
    "    for i in range(n):\n",
    "        min_idx = i\n",
    "        for j in range(i+1, n):\n",
    "            if arr[j] < arr[min_idx]:\n",
    "                min_idx = j\n",
    "        arr[i], arr[min_idx] = arr[min_idx], arr[i]"
   ]
  },
  {
   "cell_type": "code",
   "execution_count": 23,
   "metadata": {},
   "outputs": [],
   "source": [
    "# Bubble Sort\n",
    "def bubble_sort(arr):\n",
    "    n = len(arr)\n",
    "    for i in range(n):\n",
    "        for j in range(0, n-i-1):\n",
    "            if arr[j] > arr[j+1]:\n",
    "                arr[j], arr[j+1] = arr[j+1], arr[j]"
   ]
  },
  {
   "cell_type": "code",
   "execution_count": 24,
   "metadata": {},
   "outputs": [],
   "source": [
    "# Heap Sort\n",
    "def heap_sort(arr):\n",
    "    heapq.heapify(arr)\n",
    "    sorted_arr = [heapq.heappop(arr) for _ in range(len(arr))]\n",
    "    arr[:] = sorted_arr"
   ]
  },
  {
   "cell_type": "code",
   "execution_count": 25,
   "metadata": {},
   "outputs": [],
   "source": [
    "# Quick Sort\n",
    "def quick_sort(arr):\n",
    "    if len(arr) <= 1:\n",
    "        return arr\n",
    "    pivot = arr[len(arr) // 2]\n",
    "    left = [x for x in arr if x < pivot]\n",
    "    middle = [x for x in arr if x == pivot]\n",
    "    right = [x for x in arr if x > pivot]\n",
    "    return quick_sort(left) + middle + quick_sort(right)"
   ]
  },
  {
   "cell_type": "code",
   "execution_count": 26,
   "metadata": {},
   "outputs": [],
   "source": [
    "# Insertion Sort\n",
    "def insertion_sort(arr):\n",
    "    for i in range(1, len(arr)):\n",
    "        key = arr[i]\n",
    "        j = i-1\n",
    "        while j >= 0 and key < arr[j]:\n",
    "            arr[j+1] = arr[j]\n",
    "            j -= 1\n",
    "        arr[j+1] = key"
   ]
  },
  {
   "cell_type": "code",
   "execution_count": 27,
   "metadata": {},
   "outputs": [],
   "source": [
    "# Measure time taken by sorting algorithms\n",
    "def measure_sort_time(sort_function, array):\n",
    "    start_time = time.time()\n",
    "    sort_function(array)\n",
    "    return time.time() - start_time"
   ]
  },
  {
   "cell_type": "code",
   "execution_count": 28,
   "metadata": {},
   "outputs": [
    {
     "name": "stdout",
     "output_type": "stream",
     "text": [
      "Selection Sort: 0.805348 seconds\n",
      "Bubble Sort: 1.420001 seconds\n",
      "Heap Sort: 0.013520 seconds\n",
      "Quick Sort: 0.004126 seconds\n",
      "Insertion Sort: 0.799952 seconds\n"
     ]
    }
   ],
   "source": [
    "array_size = 5000\n",
    "array = create_array(array_size)\n",
    "\n",
    "# Clone the array for each sorting algorithm\n",
    "arrays = [array[:] for _ in range(5)]\n",
    "\n",
    "# Measure time taken by each sorting algorithm\n",
    "times = {}\n",
    "times['Selection Sort'] = measure_sort_time(selection_sort, arrays[0])\n",
    "times['Bubble Sort'] = measure_sort_time(bubble_sort, arrays[1])\n",
    "times['Heap Sort'] = measure_sort_time(heap_sort, arrays[2])\n",
    "# Quick sort works with recursion, so we need to reassign the array\n",
    "start_time = time.time()\n",
    "arrays[3] = quick_sort(arrays[3])\n",
    "times['Quick Sort'] = time.time() - start_time\n",
    "times['Insertion Sort'] = measure_sort_time(insertion_sort, arrays[4])\n",
    "\n",
    "# Print the time taken by each sorting algorithm\n",
    "for sort_algo, time_taken in times.items():\n",
    "    print(f\"{sort_algo}: {time_taken:.6f} seconds\")"
   ]
  }
 ],
 "metadata": {
  "kernelspec": {
   "display_name": ".venv",
   "language": "python",
   "name": "python3"
  },
  "language_info": {
   "codemirror_mode": {
    "name": "ipython",
    "version": 3
   },
   "file_extension": ".py",
   "mimetype": "text/x-python",
   "name": "python",
   "nbconvert_exporter": "python",
   "pygments_lexer": "ipython3",
   "version": "3.11.9"
  }
 },
 "nbformat": 4,
 "nbformat_minor": 2
}
